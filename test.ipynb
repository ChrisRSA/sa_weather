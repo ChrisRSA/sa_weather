{
 "cells": [
  {
   "cell_type": "code",
   "execution_count": 1,
   "metadata": {},
   "outputs": [],
   "source": [
    "from PIL import Image\n",
    "import glob\n",
    "import pytesseract"
   ]
  },
  {
   "cell_type": "code",
   "execution_count": 16,
   "metadata": {},
   "outputs": [],
   "source": [
    "def get_latest_file():\n",
    "    files = glob.glob('data/*.jpg')\n",
    "    name = max(files, key=os.path.getctime)\n",
    "    name = name.replace('.jpg', '')\n",
    "    return name[-4:]\n",
    "\n",
    "def crop_and_get_text(im, crop_rectangle):\n",
    "    cropped_im = im.crop(crop_rectangle)\n",
    "    return pytesseract.image_to_string(cropped_im, config='--psm 7')\n",
    "\n",
    "def clean_text(text):\n",
    "    return text.replace('Valid', '').replace('UTC', '').replace(':', '').replace(' ', '').replace('\\n', '')\n",
    "\n",
    "# a function that will take a path open and crop the image and return the text then compare if that text is similiar to another string\n",
    "def compare_text(path, text):\n",
    "    im = Image.open(path)\n",
    "    crop_rectangle = (655, 125, 830, 175)\n",
    "    text_from_image = crop_and_get_text(im, crop_rectangle)\n",
    "    text_from_image = clean_text(text_from_image)\n",
    "    text_from_image = text_from_image.replace('\\n', '')\n",
    "    if text_from_image == text:\n",
    "        return True\n",
    "    else:\n",
    "        return False"
   ]
  },
  {
   "cell_type": "code",
   "execution_count": 17,
   "metadata": {},
   "outputs": [
    {
     "data": {
      "text/plain": [
       "True"
      ]
     },
     "execution_count": 17,
     "metadata": {},
     "output_type": "execute_result"
    }
   ],
   "source": [
    "compare_text('data/2022-07-27-0600.jpg', '0600')"
   ]
  },
  {
   "cell_type": "code",
   "execution_count": 19,
   "metadata": {},
   "outputs": [
    {
     "data": {
      "text/plain": [
       "[29, 1, 15, 4, 21, 24]"
      ]
     },
     "execution_count": 19,
     "metadata": {},
     "output_type": "execute_result"
    }
   ],
   "source": [
    "# a function that will randomly select lottery numbers and return them\n",
    "import random\n",
    "\n",
    "def get_random_numbers():\n",
    "    numbers = []\n",
    "    for i in range(6):\n",
    "        numbers.append(random.randint(1, 52))\n",
    "    return numbers\n",
    "\n",
    "get_random_numbers()\n"
   ]
  },
  {
   "cell_type": "code",
   "execution_count": 20,
   "metadata": {},
   "outputs": [],
   "source": [
    "def get_latest_file():\n",
    "    files = glob.glob('data/*.jpg')\n",
    "    name = max(files, key=os.path.getctime)\n",
    "    name = name.replace('.jpg', '')\n",
    "    return name[-4:]"
   ]
  },
  {
   "cell_type": "code",
   "execution_count": 21,
   "metadata": {},
   "outputs": [
    {
     "data": {
      "text/plain": [
       "'0600'"
      ]
     },
     "execution_count": 21,
     "metadata": {},
     "output_type": "execute_result"
    }
   ],
   "source": [
    "get_latest_file()"
   ]
  },
  {
   "cell_type": "code",
   "execution_count": null,
   "metadata": {},
   "outputs": [],
   "source": []
  }
 ],
 "metadata": {
  "kernelspec": {
   "display_name": "Python 3.10.5 ('scraper')",
   "language": "python",
   "name": "python3"
  },
  "language_info": {
   "codemirror_mode": {
    "name": "ipython",
    "version": 3
   },
   "file_extension": ".py",
   "mimetype": "text/x-python",
   "name": "python",
   "nbconvert_exporter": "python",
   "pygments_lexer": "ipython3",
   "version": "3.10.5"
  },
  "orig_nbformat": 4,
  "vscode": {
   "interpreter": {
    "hash": "6d9cc97668670d3ae1cb9485e52ba56bfc29eed94c85c5fd00718c84ce58fdc4"
   }
  }
 },
 "nbformat": 4,
 "nbformat_minor": 2
}
